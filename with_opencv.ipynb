{
 "cells": [
  {
   "cell_type": "code",
   "execution_count": 1,
   "metadata": {},
   "outputs": [],
   "source": [
    "import cv2 as cv\n",
    "import numpy as np"
   ]
  },
  {
   "cell_type": "code",
   "execution_count": 2,
   "metadata": {},
   "outputs": [],
   "source": [
    "def region_of_interest(img, vertices):\n",
    "    mask = np.zeros_like(img)\n",
    "    \n",
    "    if len(img.shape) > 2:  # Check if the image has more than 2 dimensions (i.e., color image)\n",
    "        channel_count = img.shape[2]\n",
    "        ignore_mask_color = (255,) * channel_count\n",
    "    else:\n",
    "        ignore_mask_color = 255\n",
    "    \n",
    "    cv.fillPoly(mask, vertices, ignore_mask_color)\n",
    "    masked_img = cv.bitwise_and(img, mask)\n",
    "    return masked_img"
   ]
  },
  {
   "cell_type": "code",
   "execution_count": 3,
   "metadata": {},
   "outputs": [],
   "source": [
    "def draw_the_lines(img, lines): \n",
    "    imge = np.copy(img)\n",
    "    blank_image = np.zeros(imge.shape, dtype=np.uint8)\n",
    "    \n",
    "    for line in lines:  \n",
    "        for x1, y1, x2, y2 in line:\n",
    "            cv.line(blank_image, (x1, y1), (x2, y2), (0, 255, 0), thickness=3)\n",
    "    cv.imshow(\"linesss\",blank_image)\n",
    "    imge = cv.addWeighted(imge, 0.8, blank_image, 1, 0.0) \n",
    "    return imge"
   ]
  },
  {
   "cell_type": "code",
   "execution_count": 4,
   "metadata": {},
   "outputs": [],
   "source": [
    "video = cv.VideoCapture(\"videos/harder_challenge_video.mp4\")\n",
    "\n",
    "while True:\n",
    "    # Read a frame from the video\n",
    "    ret, frame = video.read()\n",
    "    # Break the loop if the video has ended\n",
    "    if not ret:\n",
    "        cv.destroyAllWindows()\n",
    "        break\n",
    "\n",
    "    # Correct the variable name for color conversion\n",
    "    # frame = cv.cvtColor(frame, cv.COLOR_BGR2GRAY)\n",
    "    frame = cv.cvtColor(frame, cv.COLOR_BGR2RGB)\n",
    "    for i in range(720):\n",
    "        condition = (frame[i,:,0] > 230) & (frame[i,:,1] > 230) & (frame[i,:,2] > 230)\n",
    "        frame[i, condition, 0:2] = 0\n",
    "    \n",
    "    # Blur and apply Canny edge detection\n",
    "    frame_blurred = cv.GaussianBlur(frame, (7, 7), 0)\n",
    "    frame1 = cv.Canny(frame_blurred, 75, 150)\n",
    "\n",
    "    # Use frame1 for further processing\n",
    "    image = frame1\n",
    "\n",
    "    height = image.shape[0]\n",
    "    width = image.shape[1]\n",
    "    region_of_interest_coor = [(0, height), (width//3, height//2.5), (width//2.5, height//2.5), (width, height-30)]\n",
    "    cropped = region_of_interest(image, np.array([region_of_interest_coor], np.int32))\n",
    "    \n",
    "    # for i in range(720):\n",
    "    #     condition = (cropped[i,:,0] > 240) & (cropped[i,:,1] > 240) & (cropped[i,:,2] > 240)\n",
    "    #     cropped[i, condition, 0:2] = 0\n",
    "\n",
    "    lines = cv.HoughLinesP(cropped, rho=2, theta=np.pi/120, threshold=120, lines=np.array([]), minLineLength=20, maxLineGap=35)\n",
    "    frame1 = draw_the_lines(frame, lines) \n",
    "    cv.imshow(\"cropped\",cropped)    \n",
    "    cv.imshow('Video', frame1)\n",
    "    cv.imshow(\"orginal \",frame)\n",
    "\n",
    "    if cv.waitKey(25) & 0xFF == ord('q'):\n",
    "        cv.destroyAllWindows()\n",
    "        break\n"
   ]
  },
  {
   "cell_type": "code",
   "execution_count": 5,
   "metadata": {},
   "outputs": [],
   "source": [
    "import cv2 as cv\n",
    "import numpy as np\n",
    "video = cv.VideoCapture(\"videos/harder_challenge_video.mp4\")\n",
    "while True:\n",
    "    # Read a frame from the video\n",
    "    ret, frame = video.read()\n",
    "    # Break the loop if the video has ended\n",
    "    if not ret:\n",
    "        cv.destroyAllWindows()\n",
    "        break\n",
    "    frame1= cv.GaussianBlur(frame,(7,7),0)\n",
    "    frame1 = cv.Canny(frame1,75,150)\n",
    "    cv.imshow('Video', frame1)\n",
    "    if cv.waitKey(25) & 0xFF == ord('q'):\n",
    "        cv.destroyAllWindows()\n",
    "        break"
   ]
  }
 ],
 "metadata": {
  "kernelspec": {
   "display_name": "project",
   "language": "python",
   "name": "python3"
  },
  "language_info": {
   "codemirror_mode": {
    "name": "ipython",
    "version": 3
   },
   "file_extension": ".py",
   "mimetype": "text/x-python",
   "name": "python",
   "nbconvert_exporter": "python",
   "pygments_lexer": "ipython3",
   "version": "3.11.5"
  }
 },
 "nbformat": 4,
 "nbformat_minor": 2
}
