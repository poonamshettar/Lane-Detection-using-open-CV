{
 "cells": [
  {
   "cell_type": "code",
   "execution_count": 1,
   "metadata": {},
   "outputs": [],
   "source": [
    "import cv2\n",
    "import numpy as np \n",
    "import matplotlib.pyplot as plt"
   ]
  },
  {
   "cell_type": "code",
   "execution_count": null,
   "metadata": {},
   "outputs": [],
   "source": [
    "def color_segmentation(image):\n",
    "    rgb = cv2.cvtColor(image, cv2.COLOR_BGR2RGB)\n",
    "\n",
    "    lower_yellow = np.array([165, 157, 0], dtype=np.uint8)\n",
    "    upper_yellow = np.array([255, 255, 155], dtype=np.uint8)\n",
    "\n",
    "    lower_white = np.array([200, 200, 200], dtype=np.uint8)\n",
    "    upper_white = np.array([255, 255, 255], dtype=np.uint8)\n",
    "\n",
    "    # Create masks for yellow and white regions\n",
    "    mask_yellow = cv2.inRange(rgb, lower_yellow, upper_yellow)\n",
    "    mask_white = cv2.inRange(rgb, lower_white, upper_white)\n",
    "\n",
    "    # Combine masks\n",
    "    combined_mask = cv2.bitwise_or(mask_yellow, mask_white)\n",
    "\n",
    "    # Apply the combined mask to the original image\n",
    "    segmented_image = cv2.bitwise_and(image, image, mask=combined_mask)\n",
    "\n",
    "    return segmented_image"
   ]
  },
  {
   "cell_type": "code",
   "execution_count": null,
   "metadata": {},
   "outputs": [],
   "source": []
  }
 ],
 "metadata": {
  "kernelspec": {
   "display_name": "pytorch",
   "language": "python",
   "name": "python3"
  },
  "language_info": {
   "codemirror_mode": {
    "name": "ipython",
    "version": 3
   },
   "file_extension": ".py",
   "mimetype": "text/x-python",
   "name": "python",
   "nbconvert_exporter": "python",
   "pygments_lexer": "ipython3",
   "version": "3.11.5"
  }
 },
 "nbformat": 4,
 "nbformat_minor": 2
}
