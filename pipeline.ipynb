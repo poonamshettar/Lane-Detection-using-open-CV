{
 "cells": [
  {
   "cell_type": "code",
   "execution_count": 1,
   "metadata": {},
   "outputs": [],
   "source": [
    "import cv2\n",
    "import numpy as np \n",
    "import matplotlib.pyplot as plt"
   ]
  },
  {
   "cell_type": "code",
   "execution_count": null,
   "metadata": {},
   "outputs": [],
   "source": [
    "identity = np.array([[0.,0.,0.],\n",
    "                     [0.,1.,0.],\n",
    "                     [0.,0.,0.]])\n",
    "# Sharpen\n",
    "sharpen = np.array([[0, -1, 0],\n",
    "                    [-1, 5, -1],\n",
    "                    [0, -1, 0]])\n",
    "# Gaussian Blur\n",
    "gaussian = (1 / 16.0) * np.array([[1., 2., 1.],\n",
    "                                  [2., 4., 2.],\n",
    "                                  [1., 2., 1.]])\n",
    "\n",
    "gaussian_5x5 = (1/256.0)*np.array([[1., 4., 6., 4., 1.],\n",
    "                                   [4., 16., 24., 16., 4.],\n",
    "                                   [6., 24., 36., 24., 6.],\n",
    "                                   [4., 16., 24., 16., 4.],\n",
    "                                   ])\n",
    "# for edges in X axis\n",
    "sobel_edge_kernel_x = np.array([[1., 2., 1.],\n",
    "                              [0., 0., 0.],\n",
    "                              [-1., -2., -1]])\n",
    "# for edges in Y axis\n",
    "sobel_edge_kernel_y = np.array([[1., 0., -1.],\n",
    "                              [2., 0., -2.],\n",
    "                              [1., 0., -1.]])\n",
    "\n",
    "median = np.array([[1,1,1],\n",
    "                   [1,1,1],\n",
    "                   [1,1,1]])\n",
    "\n",
    "mean = (1/9)*np.array([[1,1,1],\n",
    "                 [1,1,1],\n",
    "                 [1,1,1]])\n",
    "\n",
    "Laplacian_gaussain = np.array([[0,1,0],\n",
    "                              [1,-4,1],\n",
    "                              [0,1,0]])\n",
    "\n",
    "edge_enhancement = np.array([[-1,-1,-1],\n",
    "                             [-1,8,-1],\n",
    "                             [-1,-1,-1]])\n",
    "\n",
    "robert_cross_1 = np.array([[1,0],\n",
    "                           [0,-1]])\n",
    "\n",
    "robert_cross_2 = np.array([[-1,0],\n",
    "                           [0,1]])"
   ]
  },
  {
   "cell_type": "code",
   "execution_count": null,
   "metadata": {},
   "outputs": [],
   "source": [
    "def color_segmentation(image):\n",
    "    rgb = cv2.cvtColor(image, cv2.COLOR_BGR2RGB)\n",
    "\n",
    "    lower_yellow = np.array([165, 157, 0], dtype=np.uint8)\n",
    "    upper_yellow = np.array([255, 255, 155], dtype=np.uint8)\n",
    "\n",
    "    lower_white = np.array([200, 200, 200], dtype=np.uint8)\n",
    "    upper_white = np.array([255, 255, 255], dtype=np.uint8)\n",
    "\n",
    "    mask_yellow = cv2.inRange(rgb, lower_yellow, upper_yellow)\n",
    "    mask_white = cv2.inRange(rgb, lower_white, upper_white)\n",
    "\n",
    "    combined_mask = cv2.bitwise_or(mask_yellow, mask_white)\n",
    "\n",
    "    segmented_image = cv2.bitwise_and(image, image, mask=combined_mask)\n",
    "\n",
    "    return segmented_image"
   ]
  },
  {
   "cell_type": "code",
   "execution_count": 2,
   "metadata": {},
   "outputs": [],
   "source": [
    "image = cv2.imread(\"testing/parllerl_lanes.png\")\n",
    "image = cv2.cvtColor(image, cv2.COLOR_BGR2RGB)"
   ]
  }
 ],
 "metadata": {
  "kernelspec": {
   "display_name": "pytorch",
   "language": "python",
   "name": "python3"
  },
  "language_info": {
   "codemirror_mode": {
    "name": "ipython",
    "version": 3
   },
   "file_extension": ".py",
   "mimetype": "text/x-python",
   "name": "python",
   "nbconvert_exporter": "python",
   "pygments_lexer": "ipython3",
   "version": "3.11.5"
  }
 },
 "nbformat": 4,
 "nbformat_minor": 2
}
