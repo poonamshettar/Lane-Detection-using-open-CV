{
 "cells": [
  {
   "cell_type": "code",
   "execution_count": null,
   "metadata": {},
   "outputs": [],
   "source": [
    "import cv2\n",
    "import numpy as np\n",
    "import matplotlib.pyplot as plt"
   ]
  },
  {
   "cell_type": "code",
   "execution_count": null,
   "metadata": {},
   "outputs": [],
   "source": [
    "image = cv2.imread(\"testing/parllerl_lanes.png\")"
   ]
  },
  {
   "cell_type": "code",
   "execution_count": null,
   "metadata": {},
   "outputs": [],
   "source": [
    "plt.imshow(image)"
   ]
  },
  {
   "cell_type": "code",
   "execution_count": null,
   "metadata": {},
   "outputs": [],
   "source": [
    "img_copy = np.copy(image)\n",
    "img_copy = cv2.cvtColor(img_copy,cv2.COLOR_BGR2RGB)"
   ]
  },
  {
   "cell_type": "code",
   "execution_count": null,
   "metadata": {},
   "outputs": [],
   "source": [
    "# video = cv2.VideoCapture(\"videos/harder_challenge_video.mp4\")\n",
    "video = cv2.VideoCapture(\"videos/project_video.mp4\")\n",
    "while True:\n",
    "    ret, frame = video.read()\n",
    "    if not ret:\n",
    "        break\n",
    "\n",
    "    tl=[550,400]\n",
    "    bl=[200,700]\n",
    "    tr=[700,400]\n",
    "    br=[1200,700]\n",
    "\n",
    "    cv2.circle(frame,tl,5,[0,0,255],-1,)\n",
    "    cv2.circle(frame,bl,5,[0,0,255],-1,)\n",
    "    cv2.circle(frame,br,5,[0,0,255],-1,)\n",
    "    cv2.circle(frame,tr,5,[0,0,255],-1,)\n",
    "\n",
    "    pt1 = np.float32([tl,bl,tr,br])\n",
    "    pt2 = np.float32([[0,0],[0,480],[640,0],[640,480]])\n",
    "\n",
    "    matrix = cv2.getPerspectiveTransform(pt1,pt2)\n",
    "    f = cv2.warpPerspective(frame,matrix,(640,480))\n",
    "\n",
    "    cv2.imshow('Video', frame)\n",
    "    cv2.imshow('presp',f)\n",
    "    if cv2.waitKey(25) & 0xFF == ord('q'):\n",
    "        cv2.destroyAllWindows()\n",
    "        break"
   ]
  }
 ],
 "metadata": {
  "kernelspec": {
   "display_name": "pytorch",
   "language": "python",
   "name": "python3"
  },
  "language_info": {
   "codemirror_mode": {
    "name": "ipython",
    "version": 3
   },
   "file_extension": ".py",
   "mimetype": "text/x-python",
   "name": "python",
   "nbconvert_exporter": "python",
   "pygments_lexer": "ipython3",
   "version": "3.11.5"
  }
 },
 "nbformat": 4,
 "nbformat_minor": 2
}
