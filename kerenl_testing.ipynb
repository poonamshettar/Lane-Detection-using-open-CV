{
 "cells": [
  {
   "cell_type": "code",
   "execution_count": null,
   "metadata": {},
   "outputs": [],
   "source": [
    "import cv2\n",
    "import numpy as np \n",
    "import matplotlib.pyplot as plt"
   ]
  },
  {
   "cell_type": "code",
   "execution_count": null,
   "metadata": {},
   "outputs": [],
   "source": [
    "identity = np.array([[0.,0.,0.],\n",
    "                     [0.,1.,0.],\n",
    "                     [0.,0.,0.]])\n",
    "# Sharpen\n",
    "sharpen = np.array([[0, -1, 0],\n",
    "                    [-1, 5, -1],\n",
    "                    [0, -1, 0]])\n",
    "# Gaussian Blur\n",
    "gaussian = (1 / 16.0) * np.array([[1., 2., 1.],\n",
    "                                  [2., 4., 2.],\n",
    "                                  [1., 2., 1.]])\n",
    "\n",
    "gaussian_5x5 = (1/256.0)*np.array([[1., 4., 6., 4., 1.],\n",
    "                                   [4., 16., 24., 16., 4.],\n",
    "                                   [6., 24., 36., 24., 6.],\n",
    "                                   [4., 16., 24., 16., 4.],\n",
    "                                   ])\n",
    "# for edges in X axis\n",
    "sobel_edge_kernel_x = np.array([[1., 2., 1.],\n",
    "                              [0., 0., 0.],\n",
    "                              [-1., -2., -1]])\n",
    "# for edges in Y axis\n",
    "sobel_edge_kernel_y = np.array([[1., 0., -1.],\n",
    "                              [2., 0., -2.],\n",
    "                              [1., 0., -1.]])\n",
    "\n",
    "median = np.array([[1,1,1],\n",
    "                   [1,1,1],\n",
    "                   [1,1,1]])\n",
    "\n",
    "mean = (1/9)*np.array([[1,1,1],\n",
    "                 [1,1,1],\n",
    "                 [1,1,1]])\n",
    "\n",
    "Laplacian_gaussain = np.array([[0,1,0],\n",
    "                              [1,-4,1],\n",
    "                              [0,1,0]])\n",
    "\n",
    "edge_enhancement = np.array([[-1,-1,-1],\n",
    "                             [-1,8,-1],\n",
    "                             [-1,-1,-1]])\n",
    "\n",
    "robert_cross_1 = np.array([[1,0],\n",
    "                           [0,-1]])\n",
    "\n",
    "robert_cross_2 = np.array([[-1,0],\n",
    "                           [0,1]])"
   ]
  },
  {
   "cell_type": "code",
   "execution_count": null,
   "metadata": {},
   "outputs": [],
   "source": [
    "def convoperation(image, kernels):\n",
    "    result= np.copy(image)\n",
    "    for kernel in kernels:\n",
    "        result = cv2.filter2D(result, -1, kernel)\n",
    "    cv2.imshow('Original Image', image)\n",
    "    cv2.imshow('original egde',cv2.Canny(image,75,150))\n",
    "\n",
    "    cv2.imshow('kernel Image', result)\n",
    "\n",
    "    cv2.imshow('egde',cv2.Canny(result,75,150))\n",
    "    cv2.waitKey(0)\n",
    "    cv2.destroyAllWindows()"
   ]
  },
  {
   "cell_type": "markdown",
   "metadata": {},
   "source": [
    "Dark_images\n"
   ]
  },
  {
   "cell_type": "code",
   "execution_count": null,
   "metadata": {},
   "outputs": [],
   "source": [
    "image = cv2.imread(\"testing/shadowimage2.png\")\n",
    "# image = cv2.imread(\"testing/shadowimage.png\")\n",
    "image = cv2.imread(\"testing/darklane.png\")\n",
    "image = cv2.cvtColor(image, cv2.COLOR_BGR2RGB)\n",
    "plt.imshow(image)"
   ]
  },
  {
   "cell_type": "code",
   "execution_count": null,
   "metadata": {},
   "outputs": [],
   "source": [
    "#for brighten\n",
    "test_kernel1 = np.array([[1,0,0],\n",
    "                        [0,1,0],\n",
    "                        [0,0,1]])\n",
    "test_kernel2 = np.array([[0.2,0.2,0.,2],\n",
    "                        [0.2,0.2,0.,2],\n",
    "                        [0.2,0.2,0.,2]])\n",
    "test_kernel3 = np.array([[0.1,0.1,0.1],\n",
    "                         [0.1,0.1,0.1],\n",
    "                         [0.1,0.1,0.1]])"
   ]
  },
  {
   "cell_type": "markdown",
   "metadata": {},
   "source": [
    "Both test kernel are used to brighten the lane in dark condition and work well but the 2nd kernel brightness is much higher which distorts the image"
   ]
  },
  {
   "cell_type": "code",
   "execution_count": null,
   "metadata": {},
   "outputs": [],
   "source": [
    "convoperation(image,[test_kernel1])"
   ]
  },
  {
   "cell_type": "code",
   "execution_count": null,
   "metadata": {},
   "outputs": [],
   "source": [
    "convoperation(image,[test_kernel2])"
   ]
  },
  {
   "cell_type": "code",
   "execution_count": null,
   "metadata": {},
   "outputs": [],
   "source": [
    "convoperation(image,[test_kernel3])"
   ]
  },
  {
   "cell_type": "markdown",
   "metadata": {},
   "source": [
    "Sharpen for dark images"
   ]
  },
  {
   "cell_type": "code",
   "execution_count": null,
   "metadata": {},
   "outputs": [],
   "source": [
    "convoperation(image,[sharpen,sharpen,gaussian_5x5])"
   ]
  },
  {
   "cell_type": "code",
   "execution_count": null,
   "metadata": {},
   "outputs": [],
   "source": [
    "convoperation(image,[edge_enhancement,gaussian_5x5])"
   ]
  }
 ],
 "metadata": {
  "kernelspec": {
   "display_name": "pytorch",
   "language": "python",
   "name": "python3"
  },
  "language_info": {
   "codemirror_mode": {
    "name": "ipython",
    "version": 3
   },
   "file_extension": ".py",
   "mimetype": "text/x-python",
   "name": "python",
   "nbconvert_exporter": "python",
   "pygments_lexer": "ipython3",
   "version": "3.11.5"
  }
 },
 "nbformat": 4,
 "nbformat_minor": 2
}
