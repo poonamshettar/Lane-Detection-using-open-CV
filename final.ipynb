{
 "cells": [
  {
   "cell_type": "code",
   "execution_count": 61,
   "metadata": {},
   "outputs": [],
   "source": [
    "import cv2\n",
    "import matplotlib.pyplot as plt\n",
    "import numpy as np\n",
    "from numpy.polynomial import Polynomial as P"
   ]
  },
  {
   "cell_type": "code",
   "execution_count": 62,
   "metadata": {},
   "outputs": [],
   "source": [
    "def convoperation(image, kernels):\n",
    "    result= np.copy(image)\n",
    "    for kernel in kernels:\n",
    "        result = cv2.filter2D(result, -1, kernel)\n",
    "    return result"
   ]
  },
  {
   "cell_type": "code",
   "execution_count": 63,
   "metadata": {},
   "outputs": [],
   "source": [
    "def color_segmentation(image):\n",
    "    # rgb = cv2.cvtColor(image, cv2.COLOR_BGR2RGB)\n",
    "\n",
    "    lower_yellow = np.array([18, 95, 95], dtype=np.uint8)\n",
    "    upper_yellow = np.array([105, 255, 255], dtype=np.uint8)\n",
    "\n",
    "    lower_white = np.array([0, 0, 200], dtype=np.uint8)\n",
    "    upper_white = np.array([255, 80, 255], dtype=np.uint8)\n",
    "\n",
    "    mask_yellow = cv2.inRange(image, lower_yellow, upper_yellow)\n",
    "    mask_white = cv2.inRange(image, lower_white, upper_white)\n",
    "\n",
    "    combined_mask = cv2.bitwise_or(mask_yellow, mask_white)\n",
    "\n",
    "    # segmented_image = cv2.bitwise_and(image, image, mask=combined_mask)\n",
    "    # combined_mask = cv2.bitwise_or(mask_yellow, mask_white)\n",
    "    inverted_mask = cv2.bitwise_not(combined_mask)\n",
    "    \n",
    "    masked_color_image = np.full_like(image, [0,255,0] , dtype=np.uint8)\n",
    "\n",
    "    # Combine the masked color image with the original image using the inverted mask\n",
    "    segmented_image = cv2.bitwise_or(cv2.bitwise_and(image, image, mask=inverted_mask), \n",
    "                                      cv2.bitwise_and(masked_color_image, masked_color_image, mask=combined_mask))\n",
    "\n",
    "    # img = cv2.bitwise_and(image, image, mask=cv2.bitwise_or(mask_white, mask_yellow))\n",
    "    return segmented_image"
   ]
  },
  {
   "cell_type": "code",
   "execution_count": 64,
   "metadata": {},
   "outputs": [],
   "source": [
    "def warp(img):\n",
    "    img_size = (img.shape[1], img.shape[0])\n",
    "\n",
    "    pt1 = np.float32([[685, 450],\n",
    "          [1090, 710],\n",
    "          [220, 710],\n",
    "          [595, 450]])\n",
    "\n",
    "    pt2 = np.float32(\n",
    "        [[900, 0],\n",
    "          [900, 710],\n",
    "          [250, 710],\n",
    "          [250, 0]])\n",
    "\n",
    "    M = cv2.getPerspectiveTransform(pt1, pt2)\n",
    "    Minv = cv2.getPerspectiveTransform(pt2, pt1)\n",
    "\n",
    "    binary_warped = cv2.warpPerspective(img, M, img_size, flags=cv2.INTER_LINEAR)\n",
    "\n",
    "    return binary_warped, Minv"
   ]
  },
  {
   "cell_type": "code",
   "execution_count": 65,
   "metadata": {},
   "outputs": [],
   "source": [
    "def unwarp(warped_img, Minv):\n",
    "    img_size = (warped_img.shape[1], warped_img.shape[0])\n",
    "    unwarped_img = cv2.warpPerspective(warped_img, Minv, img_size, flags=cv2.INTER_LINEAR)\n",
    "    return unwarped_img"
   ]
  },
  {
   "cell_type": "code",
   "execution_count": 66,
   "metadata": {},
   "outputs": [],
   "source": [
    "def slope(line):\n",
    "    return (float(line[3]) - line[1]) / (float(line[2]) - line[0])"
   ]
  },
  {
   "cell_type": "code",
   "execution_count": 67,
   "metadata": {},
   "outputs": [],
   "source": [
    "PREV_LEFT_X1 = None\n",
    "PREV_LEFT_X2 = None\n",
    "PREV_RIGHT_X1 = None\n",
    "PREV_RIGHT_X2 = None\n",
    "\n",
    "BASE_IMG = None\n",
    "CANNY_IMG = None"
   ]
  },
  {
   "cell_type": "code",
   "execution_count": 68,
   "metadata": {},
   "outputs": [],
   "source": [
    "def draw_lines(img, lines, color=[255, 0, 0], thickness=7):\n",
    "    global PREV_LEFT_X1, PREV_LEFT_X2, PREV_RIGHT_X1, PREV_RIGHT_X2\n",
    "    left_x = []\n",
    "    left_y = []\n",
    "    right_x = []\n",
    "    right_y = []\n",
    "\n",
    "    for line in lines:\n",
    "        line = line[0]\n",
    "        s = slope(line)\n",
    "\n",
    "        if 0.3 > s > -0.3:\n",
    "            continue\n",
    "\n",
    "        if s < 0:\n",
    "            if line[0] > img.shape[1] / 2 + 40:\n",
    "                continue\n",
    "\n",
    "            left_x += [line[0], line[2]]\n",
    "            left_y += [line[1], line[3]]\n",
    "            # cv2.line(img, (int(line[0]), int(line[1])), (int(line[2]), int(line[3])), [0, 0, 255], thickness)\n",
    "        else:\n",
    "            if line[0] < img.shape[1] / 2 - 40:\n",
    "                continue\n",
    "\n",
    "            right_x += [line[0], line[2]]\n",
    "            right_y += [line[1], line[3]]\n",
    "            # cv2.line(img, (int(line[0]), int(line[1])), (int(line[2]), int(line[3])), [255, 255, 0], thickness)\n",
    "\n",
    "    y1 = img.shape[0]\n",
    "    y2 = img.shape[0] / 2 + 90\n",
    "    if len(left_x) <= 1 or len(right_x) <= 1:\n",
    "        if PREV_LEFT_X1 is not None:\n",
    "            cv2.line(img, (int(PREV_LEFT_X1), int(y1)), (int(PREV_LEFT_X2), int(y2)), color, thickness)\n",
    "            cv2.line(img, (int(PREV_LEFT_X2), int(y1)), (int(PREV_RIGHT_X2), int(y2)), color, thickness)\n",
    "        return\n",
    "\n",
    "    left_poly = P.fit(np.array(left_x), np.array(left_y), 1)\n",
    "    right_poly = P.fit(np.array(right_x), np.array(right_y), 1)\n",
    "\n",
    "    left_x1 = (left_poly - y1).roots()\n",
    "    right_x1 = (right_poly - y1).roots()\n",
    "\n",
    "    left_x2 = (left_poly - y2).roots()\n",
    "    right_x2 = (right_poly - y2).roots()\n",
    "\n",
    "    if PREV_LEFT_X1 is not None:\n",
    "        left_x1 = PREV_LEFT_X1 * 0.7 + left_x1 * 0.3\n",
    "        left_x2 = PREV_LEFT_X2 * 0.7 + left_x2 * 0.3\n",
    "        right_x1 = PREV_RIGHT_X1 * 0.7 + right_x1 * 0.3\n",
    "        right_x2 = PREV_RIGHT_X2 * 0.7 + right_x2 * 0.3\n",
    "\n",
    "    PREV_LEFT_X1 = left_x1\n",
    "    PREV_LEFT_X2 = left_x2\n",
    "    PREV_RIGHT_X1 = right_x1\n",
    "    PREV_RIGHT_X2 = right_x2\n",
    "\n",
    "    cv2.line(img, (int(left_x1), int(y1)), (int(left_x2), int(y2)), color, thickness)\n",
    "    cv2.line(img, (int(right_x1), int(y1)), (int(right_x2), int(y2)), color, thickness)"
   ]
  },
  {
   "cell_type": "code",
   "execution_count": 69,
   "metadata": {},
   "outputs": [],
   "source": [
    "def hough_lines(img, rho, theta, threshold, min_line_len, max_line_gap):\n",
    "    \"\"\"\n",
    "    `img` should be the output of a Canny transform.\n",
    "        \n",
    "    Returns an image with hough lines drawn.\n",
    "    \"\"\"\n",
    "    lines = cv2.HoughLinesP(img, rho, theta, threshold, np.array([]), minLineLength=min_line_len, maxLineGap=max_line_gap)\n",
    "    line_img = np.zeros((*img.shape, 3), dtype=np.uint8)\n",
    "    draw_lines(line_img, lines)\n",
    "    return line_img\n",
    "\n",
    "# Python 3 has support for cool math symbols.\n",
    "\n",
    "def weighted_img(img, initial_img, α=1., β=1., λ=0.):\n",
    "    return cv2.addWeighted(initial_img, α, img, β, λ)"
   ]
  },
  {
   "cell_type": "code",
   "execution_count": 70,
   "metadata": {},
   "outputs": [
    {
     "name": "stderr",
     "output_type": "stream",
     "text": [
      "C:\\Users\\Lenovo\\AppData\\Local\\Temp\\ipykernel_35400\\2039104347.py:2: RuntimeWarning: divide by zero encountered in scalar divide\n",
      "  return (float(line[3]) - line[1]) / (float(line[2]) - line[0])\n"
     ]
    }
   ],
   "source": [
    "video = cv2.VideoCapture(\"videos/project_video.mp4\")\n",
    "# video = cv2.VideoCapture(\"videos/harder_challenge_video.mp4\")\n",
    "# video = cv2.VideoCapture(\"videos/challenge_video.mp4\")\n",
    "while True:\n",
    "    ret, frame = video.read()\n",
    "    if not ret:\n",
    "        break\n",
    "    base_img=frame\n",
    "    frame=cv2.cvtColor(frame,cv2.COLOR_BGR2HSV)\n",
    "    frame=cv2.GaussianBlur(frame, (3, 3), 0)\n",
    "    # frame=cv2.Canny(frame,30, 130)\n",
    "    wrapped,wrap2= warp(frame)\n",
    "    f = color_segmentation(wrapped)\n",
    "    f=cv2.cvtColor(f,cv2.COLOR_HSV2RGB)\n",
    "    im=unwarp(f,wrap2)\n",
    "    im=cv2.Canny(im,30,130)\n",
    "    image = hough_lines(im, 1, np.pi / 90, 10, 15, 10)\n",
    "    image=weighted_img(image, base_img, β=250.)\n",
    "    cv2.imshow(\"final\",image)\n",
    "    cv2.imshow('Video', frame)\n",
    "    # cv2.imshow('kernel',kerenel_edge)\n",
    "    cv2.imshow('wrapped',wrapped)\n",
    "    cv2.imshow('color',f)\n",
    "    cv2.imshow('unwarped',im)\n",
    "    # cv2.imshow('wrapped2',wrap2)\n",
    "    if cv2.waitKey(25) & 0xFF == ord('q'):\n",
    "        cv2.destroyAllWindows()\n",
    "        break\n",
    "cv2.destroyAllWindows()"
   ]
  }
 ],
 "metadata": {
  "kernelspec": {
   "display_name": "project",
   "language": "python",
   "name": "python3"
  },
  "language_info": {
   "codemirror_mode": {
    "name": "ipython",
    "version": 3
   },
   "file_extension": ".py",
   "mimetype": "text/x-python",
   "name": "python",
   "nbconvert_exporter": "python",
   "pygments_lexer": "ipython3",
   "version": "3.9.17"
  }
 },
 "nbformat": 4,
 "nbformat_minor": 2
}
